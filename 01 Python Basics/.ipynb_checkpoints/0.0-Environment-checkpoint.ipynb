{
 "cells": [
  {
   "cell_type": "markdown",
   "metadata": {},
   "source": [
    "### Environment \n",
    "-  python -m venv myenv -> Myenv is the Environment name\n",
    "-  myenv\\Scripts\\activate -> Activating the Environment\n",
    "- If you create a new Environment, The Python Environment would be same version as the python that is installed in your system\n",
    "- If you want to create new Environment with another version, then you should upgrade or downgrade your existing python version \n",
    "- deactivate -> deactivate the Environment"
   ]
  },
  {
   "cell_type": "markdown",
   "metadata": {},
   "source": [
    "- pip install virtualenv\n",
    "- virtualenv -p python virtual_env\n",
    "- virtual_env\\Scripts\\activate\n",
    "- deactivate "
   ]
  },
  {
   "cell_type": "markdown",
   "metadata": {},
   "source": []
  }
 ],
 "metadata": {
  "kernelspec": {
   "display_name": "Python 3 (ipykernel)",
   "language": "python",
   "name": "python3"
  },
  "language_info": {
   "codemirror_mode": {
    "name": "ipython",
    "version": 3
   },
   "file_extension": ".py",
   "mimetype": "text/x-python",
   "name": "python",
   "nbconvert_exporter": "python",
   "pygments_lexer": "ipython3",
   "version": "3.11.4"
  }
 },
 "nbformat": 4,
 "nbformat_minor": 2
}
